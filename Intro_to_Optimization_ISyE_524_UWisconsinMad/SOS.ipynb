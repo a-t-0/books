{
 "cells": [
  {
   "cell_type": "markdown",
   "metadata": {},
   "source": [
    "# SOS1 example\n",
    "\n",
    "Solve the following optimization problem:\n",
    "$$\\begin{aligned}\n",
    "\\text{maximize}\\quad & 3x_1 + 4x_2 + x_3 + 5x_4 \\\\\n",
    "\\text{subject to}\\quad & 0 \\le x_i \\le 5 \\\\\n",
    "& \\text{at most one of the $x_i$ can be nonzero}\n",
    "\\end{aligned}$$"
   ]
  },
  {
   "cell_type": "code",
   "execution_count": 4,
   "metadata": {
    "collapsed": false
   },
   "outputs": [
    {
     "data": {
      "text/plain": [
       "4-element Array{Float64,1}:\n",
       " 0.0\n",
       " 0.0\n",
       " 0.0\n",
       " 5.0"
      ]
     },
     "execution_count": 4,
     "metadata": {},
     "output_type": "execute_result"
    }
   ],
   "source": [
    "# using binary constraint\n",
    "\n",
    "using JuMP, Cbc\n",
    "m = Model(solver = CbcSolver())\n",
    "@variable(m, 0 <= x[1:4] <= 5)\n",
    "@variable(m, z[1:4], Bin)\n",
    "@constraint(m, sum(z[i] for i=1:4) == 1)\n",
    "@constraint(m, x .<= 5z)\n",
    "@objective(m, Max, 3x[1]+4x[2]+1x[3]+5x[4])\n",
    "\n",
    "solve(m)\n",
    "getvalue(x)"
   ]
  },
  {
   "cell_type": "code",
   "execution_count": 7,
   "metadata": {
    "collapsed": false
   },
   "outputs": [
    {
     "data": {
      "text/plain": [
       "4-element Array{Float64,1}:\n",
       " 0.0\n",
       " 0.0\n",
       " 0.0\n",
       " 5.0"
      ]
     },
     "execution_count": 7,
     "metadata": {},
     "output_type": "execute_result"
    }
   ],
   "source": [
    "# using SOS1 constraint\n",
    "\n",
    "using JuMP, Cbc\n",
    "m = Model(solver = CbcSolver())\n",
    "@variable(m, 0 <= x[1:4] <= 5)\n",
    "addSOS1(m, x)\n",
    "@objective(m, Max, 3x[1]+4x[2]+1x[3]+5x[4])\n",
    "\n",
    "solve(m)\n",
    "getvalue(x)"
   ]
  },
  {
   "cell_type": "markdown",
   "metadata": {},
   "source": [
    "## SOS2 example\n",
    "\n",
    "Solve the following optimization problem:\n",
    "$$\\begin{aligned}\n",
    "\\text{maximize}\\quad & 3x_1 + 4x_2 + x_3 + 5x_4 \\\\\n",
    "\\text{subject to}\\quad & 0 \\le x_i \\le 5 \\\\\n",
    "& \\text{at most two of the $x_i$ can be nonzero} \\\\\n",
    "& \\text{and the nonzero $x_i$ must be consecutive}\n",
    "\\end{aligned}$$"
   ]
  },
  {
   "cell_type": "code",
   "execution_count": 8,
   "metadata": {
    "collapsed": false
   },
   "outputs": [
    {
     "data": {
      "text/plain": [
       "4-element Array{Float64,1}:\n",
       " 5.0\n",
       " 5.0\n",
       " 0.0\n",
       " 0.0"
      ]
     },
     "execution_count": 8,
     "metadata": {},
     "output_type": "execute_result"
    }
   ],
   "source": [
    "# using binary constraint\n",
    "\n",
    "using JuMP, Cbc\n",
    "m = Model(solver = CbcSolver())\n",
    "@variable(m, 0 <= x[1:4] <= 5)\n",
    "@variable(m, z[1:3] >= 0)\n",
    "@constraint(m, sum(z[i] for i=1:3) == 1)\n",
    "@constraint(m, x[1] <= 5z[1])\n",
    "@constraint(m, x[2] <= 5z[1] + 5z[2])\n",
    "@constraint(m, x[3] <= 5z[2] + 5z[3])\n",
    "@constraint(m, x[4] <= 5z[3])\n",
    "@objective(m, Max, 3x[1]+4x[2]+1x[3]+5x[4])\n",
    "\n",
    "solve(m)\n",
    "getvalue(x)"
   ]
  },
  {
   "cell_type": "code",
   "execution_count": 10,
   "metadata": {
    "collapsed": false
   },
   "outputs": [
    {
     "data": {
      "text/plain": [
       "4-element Array{Float64,1}:\n",
       " 5.0\n",
       " 5.0\n",
       " 0.0\n",
       " 0.0"
      ]
     },
     "execution_count": 10,
     "metadata": {},
     "output_type": "execute_result"
    }
   ],
   "source": [
    "# using SOS2 constraint\n",
    "\n",
    "using JuMP, Cbc\n",
    "m = Model(solver = CbcSolver())\n",
    "@variable(m, 0 <= x[1:4] <= 5)\n",
    "addSOS2(m, x)\n",
    "@objective(m, Max, 3x[1]+4x[2]+1x[3]+5x[4])\n",
    "\n",
    "solve(m)\n",
    "getvalue(x)"
   ]
  },
  {
   "cell_type": "code",
   "execution_count": null,
   "metadata": {
    "collapsed": true
   },
   "outputs": [],
   "source": []
  }
 ],
 "metadata": {
  "kernelspec": {
   "display_name": "Julia 0.5.0",
   "language": "julia",
   "name": "julia-0.5"
  },
  "language_info": {
   "file_extension": ".jl",
   "mimetype": "application/julia",
   "name": "julia",
   "version": "0.5.0"
  }
 },
 "nbformat": 4,
 "nbformat_minor": 0
}
