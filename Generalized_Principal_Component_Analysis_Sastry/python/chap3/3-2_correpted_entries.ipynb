{
 "cells": [
  {
   "cell_type": "markdown",
   "metadata": {},
   "source": [
    "See\n",
    "http://www.vision.jhu.edu/gpca/"
   ]
  },
  {
   "cell_type": "code",
   "execution_count": 1,
   "metadata": {},
   "outputs": [
    {
     "name": "stdout",
     "output_type": "stream",
     "text": [
      "the shape of imgs [D x N]: (4096, 165)\n"
     ]
    }
   ],
   "source": [
    "import scipy.io\n",
    "import matplotlib.pyplot as plt\n",
    "import numpy as np\n",
    "plt.rcParams['image.cmap'] = 'gray'\n",
    "%matplotlib inline\n",
    "\n",
    "# load data http://www.cad.zju.edu.cn/home/dengcai/Data/FaceData.html\n",
    "dataset = scipy.io.loadmat('../data/Yale_64x64.mat')\n",
    "\n",
    "H, W = 64, 64\n",
    "imgs = dataset['fea']\n",
    "X = imgs.transpose().astype(np.float64)\n",
    "X = (X - np.min(X) ) / (np.max(X) - np.min(X))\n",
    "print( 'the shape of imgs [D x N]:', X.shape )\n",
    "D = X.shape[0]\n",
    "N = X.shape[1]\n",
    "# X: [D x N]\n",
    "\n",
    "def show_img(vec):\n",
    "    vec_n = (vec - vec.min() ) / (vec.max() - vec.min())\n",
    "    plt.imshow( vec_n.reshape([H, W], order='F'))\n",
    "    plt.axis('off')\n",
    "    plt.show()\n",
    "    "
   ]
  },
  {
   "cell_type": "code",
   "execution_count": 77,
   "metadata": {},
   "outputs": [],
   "source": [
    "# apply pca\n",
    "mu = np.mean(X, 1)\n",
    "Xn = np.transpose(X.transpose() - mu)\n",
    "\n",
    "d = 5\n",
    "[U, S, V] = np.linalg.svd(Xn, False)\n",
    "Ud = U[:, 0:d]\n",
    "Y = np.dot(Ud.transpose(), Xn) # [d x N] ?\n",
    "\n",
    "Y = np.ascontiguousarray(Y)\n",
    "\n",
    "eps0 = 1\n",
    "for iter in range(100):\n",
    "    ## update weight\n",
    "    eps = np.transpose(X.transpose() - mu) - np.dot(Ud, Y)\n",
    "    w = eps0**2 / (eps0**2 + eps**2 )\n",
    "    \n",
    "    ## update mu\n",
    "    mu = np.sum( w * ( X - np.dot(Ud, Y) ), 1) / np.sum(w, 1)\n",
    "\n",
    "    ## Update Ud\n",
    "    tmp_Ud = np.dot(Y, np.transpose( w * np.transpose(X.transpose() - mu) ) )\n",
    "    \n",
    "    \n",
    "    for iD in range(D):\n",
    "        Ud[iD, :] = np.transpose(\n",
    "            np.linalg.solve( np.dot(np.dot(Y, np.diag( w[iD,:])), Y.transpose() ),\n",
    "                            tmp_Ud[:, iD]) )\n",
    "    \n",
    "    \n",
    "    #     mu = np.sum( w *  )\n",
    "    \n",
    "    ## update Y\n",
    "    "
   ]
  },
  {
   "cell_type": "code",
   "execution_count": 71,
   "metadata": {},
   "outputs": [
    {
     "data": {
      "text/plain": [
       "  C_CONTIGUOUS : True\n",
       "  F_CONTIGUOUS : False\n",
       "  OWNDATA : True\n",
       "  WRITEABLE : True\n",
       "  ALIGNED : True\n",
       "  UPDATEIFCOPY : False"
      ]
     },
     "execution_count": 71,
     "metadata": {},
     "output_type": "execute_result"
    }
   ],
   "source": [
    "tmp_Ud.flags"
   ]
  },
  {
   "cell_type": "code",
   "execution_count": 28,
   "metadata": {},
   "outputs": [
    {
     "data": {
      "text/plain": [
       "((4096, 165), (4096,), (5, 165), (4096, 5))"
      ]
     },
     "execution_count": 28,
     "metadata": {},
     "output_type": "execute_result"
    }
   ],
   "source": [
    "X.shape, mu.shape, Y.shape, Ud.shape"
   ]
  },
  {
   "cell_type": "code",
   "execution_count": 50,
   "metadata": {},
   "outputs": [
    {
     "name": "stdout",
     "output_type": "stream",
     "text": [
      "Overwriting a.txt\n"
     ]
    }
   ],
   "source": [
    "%%writefile a.txt\n",
    "#include <stdio.h>\n",
    "abc"
   ]
  },
  {
   "cell_type": "code",
   "execution_count": 53,
   "metadata": {
    "collapsed": true
   },
   "outputs": [],
   "source": [
    "import cppimport"
   ]
  }
 ],
 "metadata": {
  "kernelspec": {
   "display_name": "Python 3",
   "language": "python",
   "name": "python3"
  },
  "language_info": {
   "codemirror_mode": {
    "name": "ipython",
    "version": 3
   },
   "file_extension": ".py",
   "mimetype": "text/x-python",
   "name": "python",
   "nbconvert_exporter": "python",
   "pygments_lexer": "ipython3",
   "version": "3.6.1"
  },
  "toc": {
   "colors": {
    "hover_highlight": "#DAA520",
    "navigate_num": "#000000",
    "navigate_text": "#333333",
    "running_highlight": "#FF0000",
    "selected_highlight": "#FFD700",
    "sidebar_border": "#EEEEEE",
    "wrapper_background": "#FFFFFF"
   },
   "moveMenuLeft": true,
   "nav_menu": {
    "height": "12px",
    "width": "252px"
   },
   "navigate_menu": true,
   "number_sections": true,
   "sideBar": true,
   "threshold": 4,
   "toc_cell": false,
   "toc_section_display": "block",
   "toc_window_display": false,
   "widenNotebook": false
  }
 },
 "nbformat": 4,
 "nbformat_minor": 2
}
